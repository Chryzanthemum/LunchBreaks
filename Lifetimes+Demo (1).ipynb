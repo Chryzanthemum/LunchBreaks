{
 "cells": [
  {
   "cell_type": "markdown",
   "metadata": {},
   "source": [
    "## Just playing around with a random library my friend forked because our backend is currently going through a constitutional crisis.\n",
    "\n",
    "https://github.com/CamDavidsonPilon/lifetimes\n",
    "\n",
    "Immediate usecase for our company would be better understanding of our user interactions, better targetted marketing for instance. I'm going to run through their docs using sample data and see how it goes."
   ]
  },
  {
   "cell_type": "code",
   "execution_count": 3,
   "metadata": {},
   "outputs": [],
   "source": [
    "#imports\n",
    "import pandas as pd\n",
    "import numpy as np\n",
    "import datetime\n",
    "#oh shit here we go\n",
    "import lifetimes\n",
    "%matplotlib inline\n",
    "import matplotlib.pyplot as plttouches\n",
    "import os\n",
    "import smtplib\n"
   ]
  },
  {
   "cell_type": "code",
   "execution_count": 14,
   "metadata": {
    "collapsed": true
   },
   "outputs": [],
   "source": [
    "import pandas.io.sql as psql\n",
    "import psycopg2\n",
    "connection = psycopg2.connect('your_tableinfo here')"
   ]
  },
  {
   "cell_type": "code",
   "execution_count": 62,
   "metadata": {
    "collapsed": true
   },
   "outputs": [],
   "source": [
    "df = pd.read_sql(\"SELECT user_id, order_id, transaction_id, date, amount_paid FROM your_table.orders;\", connection)"
   ]
  },
  {
   "cell_type": "code",
   "execution_count": 64,
   "metadata": {},
   "outputs": [
    {
     "data": {
      "text/html": [
       "<div>\n",
       "<style>\n",
       "    .dataframe thead tr:only-child th {\n",
       "        text-align: right;\n",
       "    }\n",
       "\n",
       "    .dataframe thead th {\n",
       "        text-align: left;\n",
       "    }\n",
       "\n",
       "    .dataframe tbody tr th {\n",
       "        vertical-align: top;\n",
       "    }\n",
       "</style>\n",
       "<table border=\"1\" class=\"dataframe\">\n",
       "  <thead>\n",
       "    <tr style=\"text-align: right;\">\n",
       "      <th></th>\n",
       "      <th>user_id</th>\n",
       "      <th>order_id</th>\n",
       "      <th>transaction_id</th>\n",
       "      <th>date</th>\n",
       "      <th>amount_paid</th>\n",
       "    </tr>\n",
       "  </thead>\n",
       "  <tbody>\n",
       "    <tr>\n",
       "      <th>0</th>\n",
       "      <td>e2b69dc1695ae4860a099fe8f80e30ff50249e01</td>\n",
       "      <td>36</td>\n",
       "      <td>1</td>\n",
       "      <td>02/05/2013 14:06:44 EST</td>\n",
       "      <td>3.0</td>\n",
       "    </tr>\n",
       "    <tr>\n",
       "      <th>1</th>\n",
       "      <td>b185c5696b2688da7855951fc3f6937287e9f0c6</td>\n",
       "      <td>8</td>\n",
       "      <td>10</td>\n",
       "      <td>02/11/2013 14:03:47 EST</td>\n",
       "      <td>3.0</td>\n",
       "    </tr>\n",
       "    <tr>\n",
       "      <th>2</th>\n",
       "      <td>69d2539d4bdbc0c007ac98de840315f33724d407</td>\n",
       "      <td>976</td>\n",
       "      <td>1000</td>\n",
       "      <td>07/19/2013 12:36:19 EST</td>\n",
       "      <td>3.49</td>\n",
       "    </tr>\n",
       "    <tr>\n",
       "      <th>3</th>\n",
       "      <td>9955ba52b27b341da6ca0f2f655f88799f2275c6</td>\n",
       "      <td>70819</td>\n",
       "      <td>100001</td>\n",
       "      <td>07/29/2015 19:49:50 EST</td>\n",
       "      <td>6.51</td>\n",
       "    </tr>\n",
       "    <tr>\n",
       "      <th>4</th>\n",
       "      <td>85483ad4b6a67e2502a21d9d0c275060881e8253</td>\n",
       "      <td>70821</td>\n",
       "      <td>100003</td>\n",
       "      <td>07/29/2015 19:50:01 EST</td>\n",
       "      <td>4.88</td>\n",
       "    </tr>\n",
       "  </tbody>\n",
       "</table>\n",
       "</div>"
      ],
      "text/plain": [
       "                                    user_id order_id transaction_id  \\\n",
       "0  e2b69dc1695ae4860a099fe8f80e30ff50249e01       36              1   \n",
       "1  b185c5696b2688da7855951fc3f6937287e9f0c6        8             10   \n",
       "2  69d2539d4bdbc0c007ac98de840315f33724d407      976           1000   \n",
       "3  9955ba52b27b341da6ca0f2f655f88799f2275c6    70819         100001   \n",
       "4  85483ad4b6a67e2502a21d9d0c275060881e8253    70821         100003   \n",
       "\n",
       "                      date amount_paid  \n",
       "0  02/05/2013 14:06:44 EST         3.0  \n",
       "1  02/11/2013 14:03:47 EST         3.0  \n",
       "2  07/19/2013 12:36:19 EST        3.49  \n",
       "3  07/29/2015 19:49:50 EST        6.51  \n",
       "4  07/29/2015 19:50:01 EST        4.88  "
      ]
     },
     "execution_count": 64,
     "metadata": {},
     "output_type": "execute_result"
    }
   ],
   "source": [
    "df.head()"
   ]
  },
  {
   "cell_type": "code",
   "execution_count": 65,
   "metadata": {},
   "outputs": [],
   "source": [
    "#apparently lifetimes will just convert this transactional data into their format, let's try it out\n",
    "#from lifetimes.utils import summary_data_from_transaction_data\n",
    "#summary_data_from_transaction_data(df, 'user_id', 'date')"
   ]
  },
  {
   "cell_type": "code",
   "execution_count": 66,
   "metadata": {
    "collapsed": true
   },
   "outputs": [],
   "source": [
    "#okay, I let it run for like 30 minutes and it didn't finish, so I'm just going to do this manually. \n",
    "#I'm also going to take out all the references to amount_paid because I don't want to go through the trouble of anonymizing that."
   ]
  },
  {
   "cell_type": "code",
   "execution_count": 67,
   "metadata": {},
   "outputs": [],
   "source": [
    "#convert date to datetime format, groupby order id \n",
    "df['amount_paid'] = pd.to_numeric(df['amount_paid'], errors='coerce')\n",
    "df[['Created At 2', 'Created At 3', 'Created At 4']] = df['date'].str.split(expand = True)\n",
    "df.drop(['date', 'Created At 3', 'Created At 4'],inplace=True,axis=1)\n",
    "df.rename(index=str, columns={\"Created At 2\": \"created_at\"}, inplace = True)\n",
    "df['created_at'] = pd.to_datetime(df['created_at'],format='%m/%d/%Y')"
   ]
  },
  {
   "cell_type": "code",
   "execution_count": 69,
   "metadata": {},
   "outputs": [],
   "source": [
    "#so realistically we don't have transactions every day for a user, so I'm going to take every purchase date and just round to the first day of the month\n",
    "df['created_at'] = df['created_at'].values.astype('datetime64[M]')"
   ]
  },
  {
   "cell_type": "code",
   "execution_count": 70,
   "metadata": {
    "collapsed": true
   },
   "outputs": [],
   "source": [
    "#grouping by orders instead of individual transactions\n",
    "df2 = df.groupby(['user_id', 'created_at', 'order_id']).agg({\"amount_paid\":\"sum\"}).reset_index()\n"
   ]
  },
  {
   "cell_type": "code",
   "execution_count": 71,
   "metadata": {},
   "outputs": [],
   "source": [
    "#refer back to our backend is going through a constitutional crisis\n",
    "df3 = df2[df2['user_id']!='\"\"']"
   ]
  },
  {
   "cell_type": "code",
   "execution_count": 145,
   "metadata": {},
   "outputs": [],
   "source": [
    "df4 = df3.groupby('user_id').agg({\"created_at\":[\"min\", \"max\", \"nunique\"], \"amount_paid\":\"sum\"}).reset_index()"
   ]
  },
  {
   "cell_type": "code",
   "execution_count": 146,
   "metadata": {},
   "outputs": [
    {
     "data": {
      "text/html": [
       "<div>\n",
       "<style>\n",
       "    .dataframe thead tr:only-child th {\n",
       "        text-align: right;\n",
       "    }\n",
       "\n",
       "    .dataframe thead th {\n",
       "        text-align: left;\n",
       "    }\n",
       "\n",
       "    .dataframe tbody tr th {\n",
       "        vertical-align: top;\n",
       "    }\n",
       "</style>\n",
       "<table border=\"1\" class=\"dataframe\">\n",
       "  <thead>\n",
       "    <tr>\n",
       "      <th></th>\n",
       "      <th>user_id</th>\n",
       "      <th colspan=\"3\" halign=\"left\">created_at</th>\n",
       "      <th>amount_paid</th>\n",
       "    </tr>\n",
       "    <tr>\n",
       "      <th></th>\n",
       "      <th></th>\n",
       "      <th>min</th>\n",
       "      <th>max</th>\n",
       "      <th>nunique</th>\n",
       "      <th>sum</th>\n",
       "    </tr>\n",
       "  </thead>\n",
       "  <tbody>\n",
       "    <tr>\n",
       "      <th>0</th>\n",
       "      <td>000039a3c59f12c40491b889d403fde86f450452</td>\n",
       "      <td>2017-06-01</td>\n",
       "      <td>2017-06-01</td>\n",
       "      <td>1</td>\n",
       "      <td>2.19</td>\n",
       "    </tr>\n",
       "    <tr>\n",
       "      <th>1</th>\n",
       "      <td>00003e836df40d3e3126cf476468000140506996</td>\n",
       "      <td>2017-10-01</td>\n",
       "      <td>2017-10-01</td>\n",
       "      <td>1</td>\n",
       "      <td>8.15</td>\n",
       "    </tr>\n",
       "    <tr>\n",
       "      <th>2</th>\n",
       "      <td>000061a23ad301f65f0648cdaaa5f8a63459ebed</td>\n",
       "      <td>2017-05-01</td>\n",
       "      <td>2017-05-01</td>\n",
       "      <td>1</td>\n",
       "      <td>5.43</td>\n",
       "    </tr>\n",
       "    <tr>\n",
       "      <th>3</th>\n",
       "      <td>0000716481cc966afee15059a96f69fbc15eb761</td>\n",
       "      <td>2015-09-01</td>\n",
       "      <td>2015-09-01</td>\n",
       "      <td>1</td>\n",
       "      <td>5.00</td>\n",
       "    </tr>\n",
       "    <tr>\n",
       "      <th>4</th>\n",
       "      <td>000076c0a29d52a3d2797a2f12aea7224eec0b23</td>\n",
       "      <td>2017-09-01</td>\n",
       "      <td>2017-09-01</td>\n",
       "      <td>1</td>\n",
       "      <td>27.20</td>\n",
       "    </tr>\n",
       "  </tbody>\n",
       "</table>\n",
       "</div>"
      ],
      "text/plain": [
       "                                    user_id created_at                     \\\n",
       "                                                   min        max nunique   \n",
       "0  000039a3c59f12c40491b889d403fde86f450452 2017-06-01 2017-06-01       1   \n",
       "1  00003e836df40d3e3126cf476468000140506996 2017-10-01 2017-10-01       1   \n",
       "2  000061a23ad301f65f0648cdaaa5f8a63459ebed 2017-05-01 2017-05-01       1   \n",
       "3  0000716481cc966afee15059a96f69fbc15eb761 2015-09-01 2015-09-01       1   \n",
       "4  000076c0a29d52a3d2797a2f12aea7224eec0b23 2017-09-01 2017-09-01       1   \n",
       "\n",
       "  amount_paid  \n",
       "          sum  \n",
       "0        2.19  \n",
       "1        8.15  \n",
       "2        5.43  \n",
       "3        5.00  \n",
       "4       27.20  "
      ]
     },
     "execution_count": 146,
     "metadata": {},
     "output_type": "execute_result"
    }
   ],
   "source": [
    "#in case you didn't know, pandas occasionally creates two levels of columns and it looks like\n",
    "df4.head()"
   ]
  },
  {
   "cell_type": "code",
   "execution_count": 147,
   "metadata": {},
   "outputs": [],
   "source": [
    "#good kids shouldn't do this, but it's a quick and dirty way to fix it... stack overflow 'multiindex pandas' for a better one\n",
    "df4.columns = df4.columns.get_level_values(1)"
   ]
  },
  {
   "cell_type": "code",
   "execution_count": 148,
   "metadata": {},
   "outputs": [
    {
     "data": {
      "text/plain": [
       "Index(['', 'min', 'max', 'nunique', 'sum'], dtype='object')"
      ]
     },
     "execution_count": 148,
     "metadata": {},
     "output_type": "execute_result"
    }
   ],
   "source": [
    "df4.columns"
   ]
  },
  {
   "cell_type": "code",
   "execution_count": 149,
   "metadata": {},
   "outputs": [],
   "source": [
    "df4.rename(index=str, columns={\"\": \"user_id\"}, inplace = True)"
   ]
  },
  {
   "cell_type": "code",
   "execution_count": 150,
   "metadata": {},
   "outputs": [
    {
     "data": {
      "text/html": [
       "<div>\n",
       "<style>\n",
       "    .dataframe thead tr:only-child th {\n",
       "        text-align: right;\n",
       "    }\n",
       "\n",
       "    .dataframe thead th {\n",
       "        text-align: left;\n",
       "    }\n",
       "\n",
       "    .dataframe tbody tr th {\n",
       "        vertical-align: top;\n",
       "    }\n",
       "</style>\n",
       "<table border=\"1\" class=\"dataframe\">\n",
       "  <thead>\n",
       "    <tr style=\"text-align: right;\">\n",
       "      <th></th>\n",
       "      <th>user_id</th>\n",
       "      <th>min</th>\n",
       "      <th>max</th>\n",
       "      <th>nunique</th>\n",
       "      <th>sum</th>\n",
       "    </tr>\n",
       "  </thead>\n",
       "  <tbody>\n",
       "    <tr>\n",
       "      <th>0</th>\n",
       "      <td>000039a3c59f12c40491b889d403fde86f450452</td>\n",
       "      <td>2017-06-01</td>\n",
       "      <td>2017-06-01</td>\n",
       "      <td>1</td>\n",
       "      <td>2.19</td>\n",
       "    </tr>\n",
       "    <tr>\n",
       "      <th>1</th>\n",
       "      <td>00003e836df40d3e3126cf476468000140506996</td>\n",
       "      <td>2017-10-01</td>\n",
       "      <td>2017-10-01</td>\n",
       "      <td>1</td>\n",
       "      <td>8.15</td>\n",
       "    </tr>\n",
       "    <tr>\n",
       "      <th>2</th>\n",
       "      <td>000061a23ad301f65f0648cdaaa5f8a63459ebed</td>\n",
       "      <td>2017-05-01</td>\n",
       "      <td>2017-05-01</td>\n",
       "      <td>1</td>\n",
       "      <td>5.43</td>\n",
       "    </tr>\n",
       "    <tr>\n",
       "      <th>3</th>\n",
       "      <td>0000716481cc966afee15059a96f69fbc15eb761</td>\n",
       "      <td>2015-09-01</td>\n",
       "      <td>2015-09-01</td>\n",
       "      <td>1</td>\n",
       "      <td>5.00</td>\n",
       "    </tr>\n",
       "    <tr>\n",
       "      <th>4</th>\n",
       "      <td>000076c0a29d52a3d2797a2f12aea7224eec0b23</td>\n",
       "      <td>2017-09-01</td>\n",
       "      <td>2017-09-01</td>\n",
       "      <td>1</td>\n",
       "      <td>27.20</td>\n",
       "    </tr>\n",
       "  </tbody>\n",
       "</table>\n",
       "</div>"
      ],
      "text/plain": [
       "                                    user_id        min        max  nunique  \\\n",
       "0  000039a3c59f12c40491b889d403fde86f450452 2017-06-01 2017-06-01        1   \n",
       "1  00003e836df40d3e3126cf476468000140506996 2017-10-01 2017-10-01        1   \n",
       "2  000061a23ad301f65f0648cdaaa5f8a63459ebed 2017-05-01 2017-05-01        1   \n",
       "3  0000716481cc966afee15059a96f69fbc15eb761 2015-09-01 2015-09-01        1   \n",
       "4  000076c0a29d52a3d2797a2f12aea7224eec0b23 2017-09-01 2017-09-01        1   \n",
       "\n",
       "     sum  \n",
       "0   2.19  \n",
       "1   8.15  \n",
       "2   5.43  \n",
       "3   5.00  \n",
       "4  27.20  "
      ]
     },
     "execution_count": 150,
     "metadata": {},
     "output_type": "execute_result"
    }
   ],
   "source": [
    "df4.head()"
   ]
  },
  {
   "cell_type": "code",
   "execution_count": 151,
   "metadata": {},
   "outputs": [],
   "source": [
    "#if you read through the quick start, the things we need are a user id, the age of the user, and the frequency, so now I'm making the last 2\n",
    "df4['T'] = (datetime.date.today()-df4['min']).dt.days//30\n",
    "df4['recency'] = (df4['max']-df4['min']).dt.days//30\n",
    "df4['frequency'] = df4['nunique']-1"
   ]
  },
  {
   "cell_type": "code",
   "execution_count": 152,
   "metadata": {},
   "outputs": [
    {
     "name": "stdout",
     "output_type": "stream",
     "text": [
      "1 loop, best of 3: 1min 14s per loop\n",
      "<lifetimes.BetaGeoFitter: fitted with 690870 subjects, a: 1.00, alpha: 7.00, b: 0.94, r: 0.11>\n"
     ]
    }
   ],
   "source": [
    "from lifetimes import BetaGeoFitter\n",
    "\n",
    "# similar API to scikit-learn and lifelines.\n",
    "bgf = BetaGeoFitter(penalizer_coef=0.0)\n",
    "%timeit bgf.fit(df4['frequency'], df4['recency'], df4['T'])\n",
    "print(bgf)"
   ]
  },
  {
   "cell_type": "code",
   "execution_count": 153,
   "metadata": {},
   "outputs": [
    {
     "data": {
      "text/plain": [
       "<matplotlib.axes._subplots.AxesSubplot at 0x1e60249e8>"
      ]
     },
     "execution_count": 153,
     "metadata": {},
     "output_type": "execute_result"
    },
    {
     "data": {
      "image/png": "[encoded data removed]",
      "text/plain": [
       "<matplotlib.figure.Figure at 0x1e600bc50>"
      ]
     },
     "metadata": {},
     "output_type": "display_data"
    }
   ],
   "source": [
    "#okay, that's not terrible, 1 min for ~700k rows. \n",
    "from lifetimes.plotting import plot_frequency_recency_matrix\n",
    "\n",
    "plot_frequency_recency_matrix(bgf)"
   ]
  },
  {
   "cell_type": "code",
   "execution_count": 154,
   "metadata": {},
   "outputs": [
    {
     "data": {
      "text/plain": [
       "<matplotlib.axes._subplots.AxesSubplot at 0x1d10690b8>"
      ]
     },
     "execution_count": 154,
     "metadata": {},
     "output_type": "execute_result"
    },
    {
     "data": {
      "image/png": "[encoded data removed]",
      "text/plain": [
       "<matplotlib.figure.Figure at 0x1e600bbe0>"
      ]
     },
     "metadata": {},
     "output_type": "display_data"
    }
   ],
   "source": [
    "from lifetimes.plotting import plot_probability_alive_matrix\n",
    "\n",
    "plot_probability_alive_matrix(bgf)"
   ]
  },
  {
   "cell_type": "code",
   "execution_count": 155,
   "metadata": {},
   "outputs": [
    {
     "data": {
      "text/html": [
       "<div>\n",
       "<style>\n",
       "    .dataframe thead tr:only-child th {\n",
       "        text-align: right;\n",
       "    }\n",
       "\n",
       "    .dataframe thead th {\n",
       "        text-align: left;\n",
       "    }\n",
       "\n",
       "    .dataframe tbody tr th {\n",
       "        vertical-align: top;\n",
       "    }\n",
       "</style>\n",
       "<table border=\"1\" class=\"dataframe\">\n",
       "  <thead>\n",
       "    <tr style=\"text-align: right;\">\n",
       "      <th></th>\n",
       "      <th>user_id</th>\n",
       "      <th>min</th>\n",
       "      <th>max</th>\n",
       "      <th>nunique</th>\n",
       "      <th>sum</th>\n",
       "      <th>T</th>\n",
       "      <th>recency</th>\n",
       "      <th>frequency</th>\n",
       "      <th>predicted_purchases</th>\n",
       "    </tr>\n",
       "  </thead>\n",
       "  <tbody>\n",
       "    <tr>\n",
       "      <th>578604</th>\n",
       "      <td>d6389aec2bff4bbd4b9e84c64a5b0b996ca708a2</td>\n",
       "      <td>2015-01-01</td>\n",
       "      <td>2017-12-01</td>\n",
       "      <td>30</td>\n",
       "      <td>2924.21</td>\n",
       "      <td>36</td>\n",
       "      <td>35</td>\n",
       "      <td>29</td>\n",
       "      <td>0.648473</td>\n",
       "    </tr>\n",
       "    <tr>\n",
       "      <th>490816</th>\n",
       "      <td>b5de6cf211c4e1768e1e38ec3d75f8aca536ad70</td>\n",
       "      <td>2015-02-01</td>\n",
       "      <td>2017-12-01</td>\n",
       "      <td>31</td>\n",
       "      <td>1857.43</td>\n",
       "      <td>35</td>\n",
       "      <td>34</td>\n",
       "      <td>30</td>\n",
       "      <td>0.685414</td>\n",
       "    </tr>\n",
       "    <tr>\n",
       "      <th>103160</th>\n",
       "      <td>2616258e9f77ca32acedc883e5d5ad130eff9d66</td>\n",
       "      <td>2015-02-01</td>\n",
       "      <td>2017-12-01</td>\n",
       "      <td>33</td>\n",
       "      <td>2540.22</td>\n",
       "      <td>35</td>\n",
       "      <td>34</td>\n",
       "      <td>32</td>\n",
       "      <td>0.730140</td>\n",
       "    </tr>\n",
       "    <tr>\n",
       "      <th>192145</th>\n",
       "      <td>46fedc39366d18884c462672b6cd420b194d5e48</td>\n",
       "      <td>2015-08-01</td>\n",
       "      <td>2017-12-01</td>\n",
       "      <td>29</td>\n",
       "      <td>12047.74</td>\n",
       "      <td>29</td>\n",
       "      <td>28</td>\n",
       "      <td>28</td>\n",
       "      <td>0.739889</td>\n",
       "    </tr>\n",
       "    <tr>\n",
       "      <th>320756</th>\n",
       "      <td>76c5400ea8c2f31998708fad52a7f216d79359b4</td>\n",
       "      <td>2015-04-01</td>\n",
       "      <td>2017-12-01</td>\n",
       "      <td>32</td>\n",
       "      <td>2079.77</td>\n",
       "      <td>33</td>\n",
       "      <td>32</td>\n",
       "      <td>31</td>\n",
       "      <td>0.740880</td>\n",
       "    </tr>\n",
       "  </tbody>\n",
       "</table>\n",
       "</div>"
      ],
      "text/plain": [
       "                                         user_id        min        max  \\\n",
       "578604  d6389aec2bff4bbd4b9e84c64a5b0b996ca708a2 2015-01-01 2017-12-01   \n",
       "490816  b5de6cf211c4e1768e1e38ec3d75f8aca536ad70 2015-02-01 2017-12-01   \n",
       "103160  2616258e9f77ca32acedc883e5d5ad130eff9d66 2015-02-01 2017-12-01   \n",
       "192145  46fedc39366d18884c462672b6cd420b194d5e48 2015-08-01 2017-12-01   \n",
       "320756  76c5400ea8c2f31998708fad52a7f216d79359b4 2015-04-01 2017-12-01   \n",
       "\n",
       "        nunique       sum   T  recency  frequency  predicted_purchases  \n",
       "578604       30   2924.21  36       35         29             0.648473  \n",
       "490816       31   1857.43  35       34         30             0.685414  \n",
       "103160       33   2540.22  35       34         32             0.730140  \n",
       "192145       29  12047.74  29       28         28             0.739889  \n",
       "320756       32   2079.77  33       32         31             0.740880  "
      ]
     },
     "execution_count": 155,
     "metadata": {},
     "output_type": "execute_result"
    }
   ],
   "source": [
    "t = 1\n",
    "df4['predicted_purchases'] = bgf.conditional_expected_number_of_purchases_up_to_time(t, df4['nunique'], df4['recency'], df4['T'])\n",
    "df4.sort_values(by='predicted_purchases').tail(5)"
   ]
  },
  {
   "cell_type": "code",
   "execution_count": 156,
   "metadata": {},
   "outputs": [
    {
     "data": {
      "text/plain": [
       "<matplotlib.axes._subplots.AxesSubplot at 0x17ba35240>"
      ]
     },
     "execution_count": 156,
     "metadata": {},
     "output_type": "execute_result"
    },
    {
     "data": {
      "image/png": "[encoded data removed]",
      "text/plain": [
       "<matplotlib.figure.Figure at 0x17ba88198>"
      ]
     },
     "metadata": {},
     "output_type": "display_data"
    }
   ],
   "source": [
    "from lifetimes.plotting import plot_period_transactions\n",
    "plot_period_transactions(bgf)"
   ]
  },
  {
   "cell_type": "code",
   "execution_count": 157,
   "metadata": {},
   "outputs": [],
   "source": [
    "#yikes, this is some aggressive dropoff/overfitting... I really should just be subsampling but yolo\n",
    "#I decided against using their methodology to convert my transactional data into an appropriate format, so I'm skipping the fitting section\n",
    "#I'd just use sklearn split here I think"
   ]
  },
  {
   "cell_type": "code",
   "execution_count": 158,
   "metadata": {},
   "outputs": [
    {
     "data": {
      "text/plain": [
       "0.32364104163293095"
      ]
     },
     "execution_count": 158,
     "metadata": {},
     "output_type": "execute_result"
    }
   ],
   "source": [
    "t = 10 #predict purchases in 10 periods\n",
    "individual = df4.iloc[690865]\n",
    "# The below function is an alias to `bfg.conditional_expected_number_of_purchases_up_to_time`\n",
    "bgf.predict(t, individual['nunique'], individual['recency'], individual['T'])\n",
    "# 0.0576511"
   ]
  },
  {
   "cell_type": "code",
   "execution_count": 159,
   "metadata": {},
   "outputs": [
    {
     "data": {
      "text/plain": [
       "<matplotlib.axes._subplots.AxesSubplot at 0x17b8bef60>"
      ]
     },
     "execution_count": 159,
     "metadata": {},
     "output_type": "execute_result"
    },
    {
     "data": {
      "image/png": "[encoded data removed]",
      "text/plain": [
       "<matplotlib.figure.Figure at 0x17b7139b0>"
      ]
     },
     "metadata": {},
     "output_type": "display_data"
    }
   ],
   "source": [
    "from lifetimes.plotting import plot_history_alive\n",
    "\n",
    "id = 'ffff14f9153b0c7968b58e2a753bb9f4d2e1fb50'\n",
    "days_since_birth = 400\n",
    "sp_trans = df3.loc[df3['user_id'] == id]\n",
    "plot_history_alive(bgf, days_since_birth, sp_trans, 'created_at')"
   ]
  },
  {
   "cell_type": "code",
   "execution_count": 160,
   "metadata": {
    "collapsed": true
   },
   "outputs": [],
   "source": [
    "#iiiiiiiinteresting. I'm like not totally sold on the quality of this model, but I also didn't clean my data at all so no judgment just yet"
   ]
  },
  {
   "cell_type": "code",
   "execution_count": 161,
   "metadata": {},
   "outputs": [
    {
     "data": {
      "text/html": [
       "<div>\n",
       "<style>\n",
       "    .dataframe thead tr:only-child th {\n",
       "        text-align: right;\n",
       "    }\n",
       "\n",
       "    .dataframe thead th {\n",
       "        text-align: left;\n",
       "    }\n",
       "\n",
       "    .dataframe tbody tr th {\n",
       "        vertical-align: top;\n",
       "    }\n",
       "</style>\n",
       "<table border=\"1\" class=\"dataframe\">\n",
       "  <thead>\n",
       "    <tr style=\"text-align: right;\">\n",
       "      <th></th>\n",
       "      <th>sum</th>\n",
       "      <th>frequency</th>\n",
       "    </tr>\n",
       "  </thead>\n",
       "  <tbody>\n",
       "    <tr>\n",
       "      <th>sum</th>\n",
       "      <td>1.000000</td>\n",
       "      <td>0.367063</td>\n",
       "    </tr>\n",
       "    <tr>\n",
       "      <th>frequency</th>\n",
       "      <td>0.367063</td>\n",
       "      <td>1.000000</td>\n",
       "    </tr>\n",
       "  </tbody>\n",
       "</table>\n",
       "</div>"
      ],
      "text/plain": [
       "                sum  frequency\n",
       "sum        1.000000   0.367063\n",
       "frequency  0.367063   1.000000"
      ]
     },
     "execution_count": 161,
     "metadata": {},
     "output_type": "execute_result"
    }
   ],
   "source": [
    "#k, so now I'm doing the model that accounts for amount spent\n",
    "#small change, it is possible for transactions to end up with amount paid of 0 in our db due to refunds/rewards, they don't like that\n",
    "#it's also possible that the 'monetary_value' in the documentation is the total amount spent not average spent\n",
    "#yeah it is whoops, leaving the comments in there in case anyone else was confused\n",
    "returning_customers = df4[(df4['frequency']>0) & (df4['sum']>0)]\n",
    "returning_customers[['sum', 'frequency']].corr()\n",
    "\n",
    "#interesting conversation on using gamma gamma to model first time customers, \n",
    "#https://github.com/CamDavidsonPilon/lifetimes/issues/135"
   ]
  },
  {
   "cell_type": "code",
   "execution_count": 162,
   "metadata": {},
   "outputs": [
    {
     "name": "stdout",
     "output_type": "stream",
     "text": [
      "1 loop, best of 3: 2min 31s per loop\n",
      "<lifetimes.GammaGammaFitter: fitted with 55465 subjects, p: 766.26, q: 2.79, v: 0.08>\n"
     ]
    }
   ],
   "source": [
    "#well, it appears that we don't have a strong inverse correlation between sum and frequency, rip\n",
    "from lifetimes import GammaGammaFitter\n",
    "\n",
    "ggf = GammaGammaFitter(penalizer_coef = 0)\n",
    "%timeit ggf.fit(returning_customers['frequency'], returning_customers['sum'])\n",
    "print(ggf)"
   ]
  },
  {
   "cell_type": "code",
   "execution_count": 165,
   "metadata": {},
   "outputs": [
    {
     "name": "stdout",
     "output_type": "stream",
     "text": [
      "Expected conditional average profit: 32.67470687578905, Average profit: 34.96151492752536\n"
     ]
    }
   ],
   "source": [
    "#2.5min for ~60k...\n",
    "print(\"Expected conditional average profit: %s, Average profit: %s\" % (\n",
    "    ggf.conditional_expected_average_profit(\n",
    "        df4['frequency'],\n",
    "        df4['sum']\n",
    "    ).mean(),\n",
    "    df4[df4['frequency']>0]['sum'].mean()\n",
    "))"
   ]
  },
  {
   "cell_type": "code",
   "execution_count": null,
   "metadata": {
    "collapsed": true
   },
   "outputs": [],
   "source": []
  }
 ],
 "metadata": {
  "kernelspec": {
   "display_name": "Python 3",
   "language": "python",
   "name": "python3"
  },
  "language_info": {
   "codemirror_mode": {
    "name": "ipython",
    "version": 3
   },
   "file_extension": ".py",
   "mimetype": "text/x-python",
   "name": "python",
   "nbconvert_exporter": "python",
   "pygments_lexer": "ipython3",
   "version": "3.6.1"
  }
 },
 "nbformat": 4,
 "nbformat_minor": 2
}
