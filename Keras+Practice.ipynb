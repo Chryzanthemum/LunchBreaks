{
 "cells": [
  {
   "cell_type": "code",
   "execution_count": 1,
   "metadata": {},
   "outputs": [
    {
     "name": "stderr",
     "output_type": "stream",
     "text": [
      "Using TensorFlow backend.\n"
     ]
    },
    {
     "data": {
      "text/plain": [
       "'2.2.0'"
      ]
     },
     "execution_count": 1,
     "metadata": {},
     "output_type": "execute_result"
    }
   ],
   "source": [
    "import pandas as pd\n",
    "import matplotlib.pyplot as plt\n",
    "import tensorflow as tf\n",
    "import keras\n",
    "from keras import models, layers\n",
    "keras.__version__"
   ]
  },
  {
   "cell_type": "code",
   "execution_count": 2,
   "metadata": {
    "collapsed": true
   },
   "outputs": [],
   "source": [
    "df = pd.read_csv(\n",
    "\"https://github.com/bgweber/Twitch/raw/master/Recommendations/games-expand.csv\")\n",
    "train = df[5000:]\n",
    "test = df[:5000]\n",
    "x = train.drop(['label'], axis=1)\n",
    "y = train['label']"
   ]
  },
  {
   "cell_type": "code",
   "execution_count": 5,
   "metadata": {},
   "outputs": [],
   "source": [
    "model = models.Sequential()\n",
    "model.add(layers.Dense(64, activation='relu', input_shape=(10,)))\n",
    "model.add(layers.Dropout(0.1))\n",
    "model.add(layers.Dense(64, activation='relu'))\n",
    "model.add(layers.Dropout(0.1))\n",
    "model.add(layers.Dense(64, activation='relu'))\n",
    "model.add(layers.Dense(1, activation='sigmoid'))"
   ]
  },
  {
   "cell_type": "code",
   "execution_count": 7,
   "metadata": {},
   "outputs": [],
   "source": [
    "def auc(y_true, y_pred):\n",
    "    auc = tf.metrics.auc(y_true, y_pred)[1]\n",
    "    keras.backend.get_session().run(\n",
    "        tf.local_variables_initializer())\n",
    "    return auc\n",
    "    \n",
    "model.compile(optimizer='rmsprop',\n",
    "              loss='binary_crossentropy',metrics=[auc])"
   ]
  },
  {
   "cell_type": "code",
   "execution_count": 8,
   "metadata": {},
   "outputs": [
    {
     "name": "stdout",
     "output_type": "stream",
     "text": [
      "Train on 14324 samples, validate on 3581 samples\n",
      "Epoch 1/100\n",
      "14324/14324 [==============================] - 1s 64us/step - loss: 0.3556 - auc: 0.6141 - val_loss: 0.2766 - val_auc: 0.7195\n",
      "Epoch 2/100\n",
      "14324/14324 [==============================] - 1s 56us/step - loss: 0.3099 - auc: 0.7507 - val_loss: 0.2692 - val_auc: 0.7652\n",
      "Epoch 3/100\n",
      "14324/14324 [==============================] - 1s 46us/step - loss: 0.3073 - auc: 0.7760 - val_loss: 0.2663 - val_auc: 0.7812\n",
      "Epoch 4/100\n",
      "14324/14324 [==============================] - 1s 52us/step - loss: 0.3057 - auc: 0.7858 - val_loss: 0.2611 - val_auc: 0.7892\n",
      "Epoch 5/100\n",
      "14324/14324 [==============================] - 1s 51us/step - loss: 0.3039 - auc: 0.7929 - val_loss: 0.2661 - val_auc: 0.7949\n",
      "Epoch 6/100\n",
      "14324/14324 [==============================] - 1s 44us/step - loss: 0.3046 - auc: 0.7970 - val_loss: 0.2663 - val_auc: 0.7980\n",
      "Epoch 7/100\n",
      "14324/14324 [==============================] - 1s 48us/step - loss: 0.3038 - auc: 0.8000 - val_loss: 0.2667 - val_auc: 0.8004\n",
      "Epoch 8/100\n",
      "14324/14324 [==============================] - 1s 46us/step - loss: 0.3034 - auc: 0.8015 - val_loss: 0.2637 - val_auc: 0.8019\n",
      "Epoch 9/100\n",
      "14324/14324 [==============================] - 1s 55us/step - loss: 0.3033 - auc: 0.8032 - val_loss: 0.2639 - val_auc: 0.8037\n",
      "Epoch 10/100\n",
      "14324/14324 [==============================] - 1s 52us/step - loss: 0.3024 - auc: 0.8047 - val_loss: 0.2635 - val_auc: 0.8049\n",
      "Epoch 11/100\n",
      "14324/14324 [==============================] - 1s 51us/step - loss: 0.3033 - auc: 0.8058 - val_loss: 0.2632 - val_auc: 0.8060\n",
      "Epoch 12/100\n",
      "14324/14324 [==============================] - 1s 44us/step - loss: 0.3027 - auc: 0.8065 - val_loss: 0.2605 - val_auc: 0.8068\n",
      "Epoch 13/100\n",
      "14324/14324 [==============================] - 1s 47us/step - loss: 0.3019 - auc: 0.8076 - val_loss: 0.2619 - val_auc: 0.8077\n",
      "Epoch 14/100\n",
      "14324/14324 [==============================] - 1s 46us/step - loss: 0.3024 - auc: 0.8083 - val_loss: 0.2651 - val_auc: 0.8083\n",
      "Epoch 15/100\n",
      "14324/14324 [==============================] - 1s 47us/step - loss: 0.3022 - auc: 0.8088 - val_loss: 0.2650 - val_auc: 0.8089\n",
      "Epoch 16/100\n",
      "14324/14324 [==============================] - 1s 48us/step - loss: 0.3025 - auc: 0.8093 - val_loss: 0.2668 - val_auc: 0.8092\n",
      "Epoch 17/100\n",
      "14324/14324 [==============================] - 1s 47us/step - loss: 0.3017 - auc: 0.8095 - val_loss: 0.2642 - val_auc: 0.8097\n",
      "Epoch 18/100\n",
      "14324/14324 [==============================] - 1s 48us/step - loss: 0.3015 - auc: 0.8102 - val_loss: 0.2619 - val_auc: 0.8103\n",
      "Epoch 19/100\n",
      "14324/14324 [==============================] - 1s 54us/step - loss: 0.3012 - auc: 0.8107 - val_loss: 0.2651 - val_auc: 0.8107\n",
      "Epoch 20/100\n",
      "14324/14324 [==============================] - 1s 54us/step - loss: 0.3012 - auc: 0.8109 - val_loss: 0.2637 - val_auc: 0.8111\n",
      "Epoch 21/100\n",
      "14324/14324 [==============================] - 1s 54us/step - loss: 0.3013 - auc: 0.8115 - val_loss: 0.2637 - val_auc: 0.8114\n",
      "Epoch 22/100\n",
      "14324/14324 [==============================] - 1s 48us/step - loss: 0.3001 - auc: 0.8116 - val_loss: 0.2625 - val_auc: 0.8117\n",
      "Epoch 23/100\n",
      "14324/14324 [==============================] - 1s 56us/step - loss: 0.3019 - auc: 0.8119 - val_loss: 0.2639 - val_auc: 0.8119\n",
      "Epoch 24/100\n",
      "14324/14324 [==============================] - 1s 54us/step - loss: 0.3010 - auc: 0.8122 - val_loss: 0.2635 - val_auc: 0.8122\n",
      "Epoch 25/100\n",
      "14324/14324 [==============================] - 1s 55us/step - loss: 0.3005 - auc: 0.8125 - val_loss: 0.2692 - val_auc: 0.8125\n",
      "Epoch 26/100\n",
      "14324/14324 [==============================] - 1s 50us/step - loss: 0.3001 - auc: 0.8127 - val_loss: 0.2652 - val_auc: 0.8127\n",
      "Epoch 27/100\n",
      "14324/14324 [==============================] - 1s 50us/step - loss: 0.2998 - auc: 0.8130 - val_loss: 0.2623 - val_auc: 0.8130\n",
      "Epoch 28/100\n",
      "14324/14324 [==============================] - 1s 49us/step - loss: 0.3005 - auc: 0.8133 - val_loss: 0.2620 - val_auc: 0.8133\n",
      "Epoch 29/100\n",
      "14324/14324 [==============================] - 1s 55us/step - loss: 0.3006 - auc: 0.8135 - val_loss: 0.2625 - val_auc: 0.8134\n",
      "Epoch 30/100\n",
      "14324/14324 [==============================] - 1s 48us/step - loss: 0.2998 - auc: 0.8136 - val_loss: 0.2660 - val_auc: 0.8137\n",
      "Epoch 31/100\n",
      "14324/14324 [==============================] - 1s 48us/step - loss: 0.2996 - auc: 0.8138 - val_loss: 0.2637 - val_auc: 0.8139\n",
      "Epoch 32/100\n",
      "14324/14324 [==============================] - 1s 49us/step - loss: 0.3000 - auc: 0.8141 - val_loss: 0.2658 - val_auc: 0.8141\n",
      "Epoch 33/100\n",
      "14324/14324 [==============================] - 1s 48us/step - loss: 0.3000 - auc: 0.8142 - val_loss: 0.2660 - val_auc: 0.8142\n",
      "Epoch 34/100\n",
      "14324/14324 [==============================] - 1s 50us/step - loss: 0.3003 - auc: 0.8143 - val_loss: 0.2623 - val_auc: 0.8143\n",
      "Epoch 35/100\n",
      "14324/14324 [==============================] - 1s 52us/step - loss: 0.3003 - auc: 0.8145 - val_loss: 0.2628 - val_auc: 0.8144\n",
      "Epoch 36/100\n",
      "14324/14324 [==============================] - 1s 50us/step - loss: 0.2998 - auc: 0.8146 - val_loss: 0.2617 - val_auc: 0.8145\n",
      "Epoch 37/100\n",
      "14324/14324 [==============================] - 1s 50us/step - loss: 0.2995 - auc: 0.8147 - val_loss: 0.2627 - val_auc: 0.8147\n",
      "Epoch 38/100\n",
      "14324/14324 [==============================] - 1s 48us/step - loss: 0.3001 - auc: 0.8149 - val_loss: 0.2675 - val_auc: 0.8148\n",
      "Epoch 39/100\n",
      "14324/14324 [==============================] - 1s 47us/step - loss: 0.3000 - auc: 0.8150 - val_loss: 0.2700 - val_auc: 0.8149\n",
      "Epoch 40/100\n",
      "14324/14324 [==============================] - 1s 47us/step - loss: 0.2999 - auc: 0.8150 - val_loss: 0.2673 - val_auc: 0.8149\n",
      "Epoch 41/100\n",
      "14324/14324 [==============================] - 1s 49us/step - loss: 0.2992 - auc: 0.8151 - val_loss: 0.2622 - val_auc: 0.8150\n",
      "Epoch 42/100\n",
      "14324/14324 [==============================] - 1s 50us/step - loss: 0.2993 - auc: 0.8152 - val_loss: 0.2653 - val_auc: 0.8152\n",
      "Epoch 43/100\n",
      "14324/14324 [==============================] - 1s 47us/step - loss: 0.3005 - auc: 0.8153 - val_loss: 0.2635 - val_auc: 0.8152\n",
      "Epoch 44/100\n",
      "14324/14324 [==============================] - 1s 51us/step - loss: 0.2995 - auc: 0.8153 - val_loss: 0.2642 - val_auc: 0.8153\n",
      "Epoch 45/100\n",
      "14324/14324 [==============================] - 1s 47us/step - loss: 0.2996 - auc: 0.8154 - val_loss: 0.2637 - val_auc: 0.8153\n",
      "Epoch 46/100\n",
      "14324/14324 [==============================] - 1s 49us/step - loss: 0.2983 - auc: 0.8155 - val_loss: 0.2622 - val_auc: 0.8155\n",
      "Epoch 47/100\n",
      "14324/14324 [==============================] - 1s 49us/step - loss: 0.2996 - auc: 0.8156 - val_loss: 0.2668 - val_auc: 0.8156\n",
      "Epoch 48/100\n",
      "14324/14324 [==============================] - 1s 50us/step - loss: 0.2985 - auc: 0.8156 - val_loss: 0.2628 - val_auc: 0.8156\n",
      "Epoch 49/100\n",
      "14324/14324 [==============================] - 1s 49us/step - loss: 0.2990 - auc: 0.8157 - val_loss: 0.2610 - val_auc: 0.8157\n",
      "Epoch 50/100\n",
      "14324/14324 [==============================] - 1s 65us/step - loss: 0.2985 - auc: 0.8159 - val_loss: 0.2626 - val_auc: 0.8158\n",
      "Epoch 51/100\n",
      "14324/14324 [==============================] - 1s 77us/step - loss: 0.2995 - auc: 0.8159 - val_loss: 0.2631 - val_auc: 0.8159\n",
      "Epoch 52/100\n",
      "14324/14324 [==============================] - 1s 64us/step - loss: 0.2977 - auc: 0.8160 - val_loss: 0.2634 - val_auc: 0.8160\n",
      "Epoch 53/100\n",
      "14324/14324 [==============================] - 1s 50us/step - loss: 0.2998 - auc: 0.8161 - val_loss: 0.2624 - val_auc: 0.8160\n",
      "Epoch 54/100\n",
      "14324/14324 [==============================] - 1s 76us/step - loss: 0.2980 - auc: 0.8162 - val_loss: 0.2683 - val_auc: 0.8161\n",
      "Epoch 55/100\n",
      "14324/14324 [==============================] - 1s 67us/step - loss: 0.2988 - auc: 0.8162 - val_loss: 0.2633 - val_auc: 0.8162\n",
      "Epoch 56/100\n",
      "14324/14324 [==============================] - 1s 48us/step - loss: 0.2981 - auc: 0.8163 - val_loss: 0.2627 - val_auc: 0.8162\n",
      "Epoch 57/100\n",
      "14324/14324 [==============================] - 1s 58us/step - loss: 0.2976 - auc: 0.8163 - val_loss: 0.2645 - val_auc: 0.8163\n",
      "Epoch 58/100\n",
      "14324/14324 [==============================] - 1s 60us/step - loss: 0.2978 - auc: 0.8164 - val_loss: 0.2637 - val_auc: 0.8165\n",
      "Epoch 59/100\n"
     ]
    },
    {
     "name": "stdout",
     "output_type": "stream",
     "text": [
      "14324/14324 [==============================] - 1s 62us/step - loss: 0.2978 - auc: 0.8165 - val_loss: 0.2639 - val_auc: 0.8165\n",
      "Epoch 60/100\n",
      "14324/14324 [==============================] - 1s 70us/step - loss: 0.2982 - auc: 0.8166 - val_loss: 0.2681 - val_auc: 0.8166\n",
      "Epoch 61/100\n",
      "14324/14324 [==============================] - 1s 63us/step - loss: 0.2993 - auc: 0.8166 - val_loss: 0.2628 - val_auc: 0.8166\n",
      "Epoch 62/100\n",
      "14324/14324 [==============================] - 1s 67us/step - loss: 0.2982 - auc: 0.8167 - val_loss: 0.2630 - val_auc: 0.8167\n",
      "Epoch 63/100\n",
      "14324/14324 [==============================] - 1s 61us/step - loss: 0.2977 - auc: 0.8168 - val_loss: 0.2623 - val_auc: 0.8168\n",
      "Epoch 64/100\n",
      "14324/14324 [==============================] - 1s 66us/step - loss: 0.2981 - auc: 0.8168 - val_loss: 0.2622 - val_auc: 0.8168\n",
      "Epoch 65/100\n",
      "14324/14324 [==============================] - 1s 54us/step - loss: 0.2981 - auc: 0.8169 - val_loss: 0.2630 - val_auc: 0.8169\n",
      "Epoch 66/100\n",
      "14324/14324 [==============================] - 1s 63us/step - loss: 0.2974 - auc: 0.8169 - val_loss: 0.2616 - val_auc: 0.8169\n",
      "Epoch 67/100\n",
      "14324/14324 [==============================] - 1s 67us/step - loss: 0.2974 - auc: 0.8170 - val_loss: 0.2619 - val_auc: 0.8170\n",
      "Epoch 68/100\n",
      "14324/14324 [==============================] - 1s 66us/step - loss: 0.2974 - auc: 0.8171 - val_loss: 0.2623 - val_auc: 0.8171\n",
      "Epoch 69/100\n",
      "14324/14324 [==============================] - 1s 68us/step - loss: 0.2974 - auc: 0.8171 - val_loss: 0.2626 - val_auc: 0.8171\n",
      "Epoch 70/100\n",
      "14324/14324 [==============================] - 1s 67us/step - loss: 0.2978 - auc: 0.8172 - val_loss: 0.2626 - val_auc: 0.8171\n",
      "Epoch 71/100\n",
      "14324/14324 [==============================] - 1s 55us/step - loss: 0.2974 - auc: 0.8172 - val_loss: 0.2619 - val_auc: 0.8172\n",
      "Epoch 72/100\n",
      "14324/14324 [==============================] - 1s 44us/step - loss: 0.2979 - auc: 0.8173 - val_loss: 0.2614 - val_auc: 0.8173\n",
      "Epoch 73/100\n",
      "14324/14324 [==============================] - 1s 44us/step - loss: 0.2974 - auc: 0.8174 - val_loss: 0.2634 - val_auc: 0.8173\n",
      "Epoch 74/100\n",
      "14324/14324 [==============================] - 1s 45us/step - loss: 0.2981 - auc: 0.8174 - val_loss: 0.2694 - val_auc: 0.8174\n",
      "Epoch 75/100\n",
      "14324/14324 [==============================] - 1s 46us/step - loss: 0.2979 - auc: 0.8174 - val_loss: 0.2622 - val_auc: 0.8174\n",
      "Epoch 76/100\n",
      "14324/14324 [==============================] - 1s 48us/step - loss: 0.2976 - auc: 0.8175 - val_loss: 0.2628 - val_auc: 0.8174\n",
      "Epoch 77/100\n",
      "14324/14324 [==============================] - 1s 52us/step - loss: 0.2972 - auc: 0.8175 - val_loss: 0.2643 - val_auc: 0.8175\n",
      "Epoch 78/100\n",
      "14324/14324 [==============================] - 1s 63us/step - loss: 0.2981 - auc: 0.8176 - val_loss: 0.2647 - val_auc: 0.8175\n",
      "Epoch 79/100\n",
      "14324/14324 [==============================] - 1s 51us/step - loss: 0.2977 - auc: 0.8176 - val_loss: 0.2643 - val_auc: 0.8176\n",
      "Epoch 80/100\n",
      "14324/14324 [==============================] - 1s 45us/step - loss: 0.2969 - auc: 0.8176 - val_loss: 0.2630 - val_auc: 0.8176\n",
      "Epoch 81/100\n",
      "14324/14324 [==============================] - 1s 45us/step - loss: 0.2974 - auc: 0.8177 - val_loss: 0.2623 - val_auc: 0.8177\n",
      "Epoch 82/100\n",
      "14324/14324 [==============================] - 1s 48us/step - loss: 0.2966 - auc: 0.8177 - val_loss: 0.2713 - val_auc: 0.8177\n",
      "Epoch 83/100\n",
      "14324/14324 [==============================] - 1s 47us/step - loss: 0.2967 - auc: 0.8177 - val_loss: 0.2624 - val_auc: 0.8177\n",
      "Epoch 84/100\n",
      "14324/14324 [==============================] - 1s 46us/step - loss: 0.2965 - auc: 0.8178 - val_loss: 0.2610 - val_auc: 0.8178\n",
      "Epoch 85/100\n",
      "14324/14324 [==============================] - 1s 45us/step - loss: 0.2964 - auc: 0.8179 - val_loss: 0.2633 - val_auc: 0.8178\n",
      "Epoch 86/100\n",
      "14324/14324 [==============================] - 1s 49us/step - loss: 0.2964 - auc: 0.8179 - val_loss: 0.2623 - val_auc: 0.8179\n",
      "Epoch 87/100\n",
      "14324/14324 [==============================] - 1s 45us/step - loss: 0.2963 - auc: 0.8179 - val_loss: 0.2621 - val_auc: 0.8179\n",
      "Epoch 88/100\n",
      "14324/14324 [==============================] - 1s 46us/step - loss: 0.2964 - auc: 0.8180 - val_loss: 0.2633 - val_auc: 0.8180\n",
      "Epoch 89/100\n",
      "14324/14324 [==============================] - 1s 48us/step - loss: 0.2966 - auc: 0.8181 - val_loss: 0.2658 - val_auc: 0.8180\n",
      "Epoch 90/100\n",
      "14324/14324 [==============================] - 1s 47us/step - loss: 0.2970 - auc: 0.8181 - val_loss: 0.2637 - val_auc: 0.8181\n",
      "Epoch 91/100\n",
      "14324/14324 [==============================] - 1s 46us/step - loss: 0.2961 - auc: 0.8181 - val_loss: 0.2658 - val_auc: 0.8181\n",
      "Epoch 92/100\n",
      "14324/14324 [==============================] - 1s 44us/step - loss: 0.2962 - auc: 0.8181 - val_loss: 0.2619 - val_auc: 0.8181\n",
      "Epoch 93/100\n",
      "14324/14324 [==============================] - 1s 46us/step - loss: 0.2963 - auc: 0.8182 - val_loss: 0.2621 - val_auc: 0.8182\n",
      "Epoch 94/100\n",
      "14324/14324 [==============================] - 1s 45us/step - loss: 0.2966 - auc: 0.8182 - val_loss: 0.2627 - val_auc: 0.8182\n",
      "Epoch 95/100\n",
      "14324/14324 [==============================] - 1s 46us/step - loss: 0.2964 - auc: 0.8183 - val_loss: 0.2640 - val_auc: 0.8183\n",
      "Epoch 96/100\n",
      "14324/14324 [==============================] - 1s 47us/step - loss: 0.2958 - auc: 0.8183 - val_loss: 0.2657 - val_auc: 0.8183\n",
      "Epoch 97/100\n",
      "14324/14324 [==============================] - 1s 47us/step - loss: 0.2962 - auc: 0.8184 - val_loss: 0.2621 - val_auc: 0.8184\n",
      "Epoch 98/100\n",
      "14324/14324 [==============================] - 1s 46us/step - loss: 0.2959 - auc: 0.8184 - val_loss: 0.2638 - val_auc: 0.8184\n",
      "Epoch 99/100\n",
      "14324/14324 [==============================] - 1s 47us/step - loss: 0.2964 - auc: 0.8184 - val_loss: 0.2631 - val_auc: 0.8184\n",
      "Epoch 100/100\n",
      "14324/14324 [==============================] - 1s 46us/step - loss: 0.2969 - auc: 0.8185 - val_loss: 0.2654 - val_auc: 0.8184\n"
     ]
    }
   ],
   "source": [
    "history = model.fit(x,\n",
    "                    y,\n",
    "                    epochs=100,\n",
    "                    batch_size=100,\n",
    "                    validation_split = .2,\n",
    "                    verbose=1)"
   ]
  },
  {
   "cell_type": "code",
   "execution_count": 9,
   "metadata": {},
   "outputs": [
    {
     "data": {
      "image/png": "[encoded data removed]",
      "text/plain": [
       "<matplotlib.figure.Figure at 0x115dcca20>"
      ]
     },
     "metadata": {},
     "output_type": "display_data"
    }
   ],
   "source": [
    "loss = history.history['loss']\n",
    "val_loss = history.history['val_loss']\n",
    "epochs = range(1, len(loss) + 1)\n",
    "plt.figure(figsize=(10,6)) \n",
    "plt.plot(epochs, loss, 'bo', label='Training loss')\n",
    "plt.plot(epochs, val_loss, 'b', label='Validation loss')\n",
    "plt.legend()\n",
    "plt.show()"
   ]
  },
  {
   "cell_type": "code",
   "execution_count": 11,
   "metadata": {},
   "outputs": [
    {
     "data": {
      "text/plain": [
       "[0.38499287114143371, 0.81843739318847653]"
      ]
     },
     "execution_count": 11,
     "metadata": {},
     "output_type": "execute_result"
    }
   ],
   "source": [
    "x_test = test.drop(['label'], axis=1)\n",
    "y_test = test['label']\n",
    "results = model.evaluate(x_test, y_test, verbose = 0)\n",
    "results\n"
   ]
  },
  {
   "cell_type": "code",
   "execution_count": null,
   "metadata": {
    "collapsed": true
   },
   "outputs": [],
   "source": []
  }
 ],
 "metadata": {
  "kernelspec": {
   "display_name": "Python 3",
   "language": "python",
   "name": "python3"
  },
  "language_info": {
   "codemirror_mode": {
    "name": "ipython",
    "version": 3
   },
   "file_extension": ".py",
   "mimetype": "text/x-python",
   "name": "python",
   "nbconvert_exporter": "python",
   "pygments_lexer": "ipython3",
   "version": "3.6.3"
  }
 },
 "nbformat": 4,
 "nbformat_minor": 2
}
